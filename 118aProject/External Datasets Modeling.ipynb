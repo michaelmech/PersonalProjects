{
 "cells": [
  {
   "cell_type": "markdown",
   "metadata": {},
   "source": [
    "## Import Datasets"
   ]
  },
  {
   "cell_type": "code",
   "execution_count": 1,
   "metadata": {},
   "outputs": [],
   "source": [
    "import pandas as pd\n",
    "from sklearn.utils import shuffle\n",
    "titanic=pd.read_csv('titanic.csv')\n",
    "titanic=titanic.dropna(axis=0) #clean for NaNs\n",
    "citrus=pd.read_csv('citrus.csv')"
   ]
  },
  {
   "cell_type": "markdown",
   "metadata": {},
   "source": [
    "### Modify Data"
   ]
  },
  {
   "cell_type": "code",
   "execution_count": 2,
   "metadata": {},
   "outputs": [
    {
     "name": "stdout",
     "output_type": "stream",
     "text": [
      "(1307, 28) (2700, 6)\n"
     ]
    },
    {
     "name": "stderr",
     "output_type": "stream",
     "text": [
      "C:\\Users\\Admin\\anaconda3\\lib\\site-packages\\pandas\\core\\ops\\array_ops.py:253: FutureWarning: elementwise comparison failed; returning scalar instead, but in the future will perform elementwise comparison\n",
      "  res_values = method(rvalues)\n"
     ]
    },
    {
     "data": {
      "text/plain": [
       "(   Passengerid   Age     Fare  Sex  sibsp  zero  zero.1  zero.2  zero.3  \\\n",
       " 0            1  22.0   7.2500    0      1     0       0       0       0   \n",
       " 1            2  38.0  71.2833    1      1     0       0       0       0   \n",
       " 2            3  26.0   7.9250    1      0     0       0       0       0   \n",
       " 3            4  35.0  53.1000    1      1     0       0       0       0   \n",
       " 4            5  35.0   8.0500    0      0     0       0       0       0   \n",
       " \n",
       "    zero.4  ...  zero.12  zero.13  zero.14  Pclass  zero.15  zero.16  Embarked  \\\n",
       " 0       0  ...        0        0        0       3        0        0       2.0   \n",
       " 1       0  ...        0        0        0       1        0        0       0.0   \n",
       " 2       0  ...        0        0        0       3        0        0       2.0   \n",
       " 3       0  ...        0        0        0       1        0        0       2.0   \n",
       " 4       0  ...        0        0        0       3        0        0       2.0   \n",
       " \n",
       "    zero.17  zero.18  2urvived  \n",
       " 0        0        0         0  \n",
       " 1        0        0         1  \n",
       " 2        0        0         1  \n",
       " 3        0        0         1  \n",
       " 4        0        0         0  \n",
       " \n",
       " [5 rows x 28 columns],\n",
       "       diameter  weight  red  green  blue  name\n",
       " 9953     14.34  241.93  156     80     2     1\n",
       " 3850      9.40  166.91  154     73     2     0\n",
       " 4962     11.53  196.54  148     60     2     0\n",
       " 3886      9.43  167.36  149     72     2     0\n",
       " 5437      9.81  171.52  142     53     2     1)"
      ]
     },
     "execution_count": 2,
     "metadata": {},
     "output_type": "execute_result"
    }
   ],
   "source": [
    "citrus=shuffle(citrus, random_state=1)\n",
    "citrus=citrus[0:2700] #this will be our medium-sized dataset\n",
    "citrus=citrus.replace(to_replace='grapefruit', value=1) #encode oranges/grapefruits as 0/1 \n",
    "citrus=citrus.replace(to_replace='orange', value=0)\n",
    "citrus=citrus[['diameter','weight',  'red',  'green',  'blue','name']] #ensures aligned label columns\n",
    "citrus.loc[citrus.name == 'grapefruit'].count() #to make sure n of each of the labels are balanced\n",
    "print(titanic.shape,citrus.shape)\n",
    "titanic.head(),citrus.head()"
   ]
  },
  {
   "cell_type": "markdown",
   "metadata": {},
   "source": [
    "## Initializations"
   ]
  },
  {
   "cell_type": "code",
   "execution_count": 3,
   "metadata": {},
   "outputs": [],
   "source": [
    "from sklearn.model_selection import train_test_split\n",
    "from sklearn.linear_model import LogisticRegression\n",
    "from sklearn.neighbors import KNeighborsClassifier\n",
    "from sklearn.svm import LinearSVC\n",
    "from sklearn.model_selection import RandomizedSearchCV\n",
    "from sklearn.model_selection import GridSearchCV\n",
    "from scipy.stats import uniform\n",
    "import numpy as np\n",
    "from sklearn.metrics import accuracy_score\n",
    "import seaborn as sns\n",
    "## initialize models\n",
    "logreg=LogisticRegression(class_weight='balanced',solver='saga',max_iter=5000)\n",
    "linsvm=LinearSVC(class_weight='balanced')\n",
    "neigh = KNeighborsClassifier(n_neighbors=3)\n",
    "\n",
    "\n",
    "##lists to loop over \n",
    "trials=[1,2,3]\n",
    "splits=[0.8,0.5,0.2]\n",
    "datasets=[titanic,citrus]\n",
    "\n",
    "\n"
   ]
  },
  {
   "cell_type": "markdown",
   "metadata": {},
   "source": [
    "### Logistic Regression"
   ]
  },
  {
   "cell_type": "code",
   "execution_count": 4,
   "metadata": {},
   "outputs": [
    {
     "name": "stderr",
     "output_type": "stream",
     "text": [
      "C:\\Users\\Admin\\anaconda3\\lib\\site-packages\\sklearn\\linear_model\\_sag.py:330: ConvergenceWarning: The max_iter was reached which means the coef_ did not converge\n",
      "  \"the coef_ did not converge\", ConvergenceWarning)\n",
      "C:\\Users\\Admin\\anaconda3\\lib\\site-packages\\sklearn\\linear_model\\_sag.py:330: ConvergenceWarning: The max_iter was reached which means the coef_ did not converge\n",
      "  \"the coef_ did not converge\", ConvergenceWarning)\n",
      "C:\\Users\\Admin\\anaconda3\\lib\\site-packages\\sklearn\\linear_model\\_sag.py:330: ConvergenceWarning: The max_iter was reached which means the coef_ did not converge\n",
      "  \"the coef_ did not converge\", ConvergenceWarning)\n",
      "C:\\Users\\Admin\\anaconda3\\lib\\site-packages\\sklearn\\linear_model\\_sag.py:330: ConvergenceWarning: The max_iter was reached which means the coef_ did not converge\n",
      "  \"the coef_ did not converge\", ConvergenceWarning)\n",
      "C:\\Users\\Admin\\anaconda3\\lib\\site-packages\\sklearn\\linear_model\\_sag.py:330: ConvergenceWarning: The max_iter was reached which means the coef_ did not converge\n",
      "  \"the coef_ did not converge\", ConvergenceWarning)\n",
      "C:\\Users\\Admin\\anaconda3\\lib\\site-packages\\sklearn\\linear_model\\_sag.py:330: ConvergenceWarning: The max_iter was reached which means the coef_ did not converge\n",
      "  \"the coef_ did not converge\", ConvergenceWarning)\n",
      "C:\\Users\\Admin\\anaconda3\\lib\\site-packages\\sklearn\\linear_model\\_sag.py:330: ConvergenceWarning: The max_iter was reached which means the coef_ did not converge\n",
      "  \"the coef_ did not converge\", ConvergenceWarning)\n",
      "C:\\Users\\Admin\\anaconda3\\lib\\site-packages\\sklearn\\linear_model\\_sag.py:330: ConvergenceWarning: The max_iter was reached which means the coef_ did not converge\n",
      "  \"the coef_ did not converge\", ConvergenceWarning)\n",
      "C:\\Users\\Admin\\anaconda3\\lib\\site-packages\\sklearn\\linear_model\\_sag.py:330: ConvergenceWarning: The max_iter was reached which means the coef_ did not converge\n",
      "  \"the coef_ did not converge\", ConvergenceWarning)\n",
      "C:\\Users\\Admin\\anaconda3\\lib\\site-packages\\sklearn\\linear_model\\_sag.py:330: ConvergenceWarning: The max_iter was reached which means the coef_ did not converge\n",
      "  \"the coef_ did not converge\", ConvergenceWarning)\n",
      "C:\\Users\\Admin\\anaconda3\\lib\\site-packages\\sklearn\\linear_model\\_sag.py:330: ConvergenceWarning: The max_iter was reached which means the coef_ did not converge\n",
      "  \"the coef_ did not converge\", ConvergenceWarning)\n",
      "C:\\Users\\Admin\\anaconda3\\lib\\site-packages\\sklearn\\linear_model\\_sag.py:330: ConvergenceWarning: The max_iter was reached which means the coef_ did not converge\n",
      "  \"the coef_ did not converge\", ConvergenceWarning)\n",
      "C:\\Users\\Admin\\anaconda3\\lib\\site-packages\\sklearn\\linear_model\\_sag.py:330: ConvergenceWarning: The max_iter was reached which means the coef_ did not converge\n",
      "  \"the coef_ did not converge\", ConvergenceWarning)\n",
      "C:\\Users\\Admin\\anaconda3\\lib\\site-packages\\sklearn\\linear_model\\_sag.py:330: ConvergenceWarning: The max_iter was reached which means the coef_ did not converge\n",
      "  \"the coef_ did not converge\", ConvergenceWarning)\n",
      "C:\\Users\\Admin\\anaconda3\\lib\\site-packages\\sklearn\\linear_model\\_sag.py:330: ConvergenceWarning: The max_iter was reached which means the coef_ did not converge\n",
      "  \"the coef_ did not converge\", ConvergenceWarning)\n",
      "C:\\Users\\Admin\\anaconda3\\lib\\site-packages\\sklearn\\linear_model\\_sag.py:330: ConvergenceWarning: The max_iter was reached which means the coef_ did not converge\n",
      "  \"the coef_ did not converge\", ConvergenceWarning)\n",
      "C:\\Users\\Admin\\anaconda3\\lib\\site-packages\\sklearn\\linear_model\\_sag.py:330: ConvergenceWarning: The max_iter was reached which means the coef_ did not converge\n",
      "  \"the coef_ did not converge\", ConvergenceWarning)\n",
      "C:\\Users\\Admin\\anaconda3\\lib\\site-packages\\sklearn\\linear_model\\_sag.py:330: ConvergenceWarning: The max_iter was reached which means the coef_ did not converge\n",
      "  \"the coef_ did not converge\", ConvergenceWarning)\n",
      "C:\\Users\\Admin\\anaconda3\\lib\\site-packages\\sklearn\\linear_model\\_sag.py:330: ConvergenceWarning: The max_iter was reached which means the coef_ did not converge\n",
      "  \"the coef_ did not converge\", ConvergenceWarning)\n",
      "C:\\Users\\Admin\\anaconda3\\lib\\site-packages\\sklearn\\linear_model\\_sag.py:330: ConvergenceWarning: The max_iter was reached which means the coef_ did not converge\n",
      "  \"the coef_ did not converge\", ConvergenceWarning)\n",
      "C:\\Users\\Admin\\anaconda3\\lib\\site-packages\\sklearn\\linear_model\\_sag.py:330: ConvergenceWarning: The max_iter was reached which means the coef_ did not converge\n",
      "  \"the coef_ did not converge\", ConvergenceWarning)\n",
      "C:\\Users\\Admin\\anaconda3\\lib\\site-packages\\sklearn\\linear_model\\_sag.py:330: ConvergenceWarning: The max_iter was reached which means the coef_ did not converge\n",
      "  \"the coef_ did not converge\", ConvergenceWarning)\n",
      "C:\\Users\\Admin\\anaconda3\\lib\\site-packages\\sklearn\\linear_model\\_sag.py:330: ConvergenceWarning: The max_iter was reached which means the coef_ did not converge\n",
      "  \"the coef_ did not converge\", ConvergenceWarning)\n",
      "C:\\Users\\Admin\\anaconda3\\lib\\site-packages\\sklearn\\linear_model\\_sag.py:330: ConvergenceWarning: The max_iter was reached which means the coef_ did not converge\n",
      "  \"the coef_ did not converge\", ConvergenceWarning)\n",
      "C:\\Users\\Admin\\anaconda3\\lib\\site-packages\\sklearn\\linear_model\\_sag.py:330: ConvergenceWarning: The max_iter was reached which means the coef_ did not converge\n",
      "  \"the coef_ did not converge\", ConvergenceWarning)\n",
      "C:\\Users\\Admin\\anaconda3\\lib\\site-packages\\sklearn\\linear_model\\_sag.py:330: ConvergenceWarning: The max_iter was reached which means the coef_ did not converge\n",
      "  \"the coef_ did not converge\", ConvergenceWarning)\n",
      "C:\\Users\\Admin\\anaconda3\\lib\\site-packages\\sklearn\\linear_model\\_sag.py:330: ConvergenceWarning: The max_iter was reached which means the coef_ did not converge\n",
      "  \"the coef_ did not converge\", ConvergenceWarning)\n",
      "C:\\Users\\Admin\\anaconda3\\lib\\site-packages\\sklearn\\linear_model\\_sag.py:330: ConvergenceWarning: The max_iter was reached which means the coef_ did not converge\n",
      "  \"the coef_ did not converge\", ConvergenceWarning)\n",
      "C:\\Users\\Admin\\anaconda3\\lib\\site-packages\\sklearn\\linear_model\\_sag.py:330: ConvergenceWarning: The max_iter was reached which means the coef_ did not converge\n",
      "  \"the coef_ did not converge\", ConvergenceWarning)\n",
      "C:\\Users\\Admin\\anaconda3\\lib\\site-packages\\sklearn\\linear_model\\_sag.py:330: ConvergenceWarning: The max_iter was reached which means the coef_ did not converge\n",
      "  \"the coef_ did not converge\", ConvergenceWarning)\n",
      "C:\\Users\\Admin\\anaconda3\\lib\\site-packages\\sklearn\\linear_model\\_sag.py:330: ConvergenceWarning: The max_iter was reached which means the coef_ did not converge\n",
      "  \"the coef_ did not converge\", ConvergenceWarning)\n",
      "C:\\Users\\Admin\\anaconda3\\lib\\site-packages\\sklearn\\linear_model\\_sag.py:330: ConvergenceWarning: The max_iter was reached which means the coef_ did not converge\n",
      "  \"the coef_ did not converge\", ConvergenceWarning)\n",
      "C:\\Users\\Admin\\anaconda3\\lib\\site-packages\\sklearn\\linear_model\\_sag.py:330: ConvergenceWarning: The max_iter was reached which means the coef_ did not converge\n",
      "  \"the coef_ did not converge\", ConvergenceWarning)\n",
      "C:\\Users\\Admin\\anaconda3\\lib\\site-packages\\sklearn\\linear_model\\_sag.py:330: ConvergenceWarning: The max_iter was reached which means the coef_ did not converge\n",
      "  \"the coef_ did not converge\", ConvergenceWarning)\n",
      "C:\\Users\\Admin\\anaconda3\\lib\\site-packages\\sklearn\\linear_model\\_sag.py:330: ConvergenceWarning: The max_iter was reached which means the coef_ did not converge\n",
      "  \"the coef_ did not converge\", ConvergenceWarning)\n",
      "C:\\Users\\Admin\\anaconda3\\lib\\site-packages\\sklearn\\linear_model\\_sag.py:330: ConvergenceWarning: The max_iter was reached which means the coef_ did not converge\n",
      "  \"the coef_ did not converge\", ConvergenceWarning)\n",
      "C:\\Users\\Admin\\anaconda3\\lib\\site-packages\\sklearn\\linear_model\\_sag.py:330: ConvergenceWarning: The max_iter was reached which means the coef_ did not converge\n",
      "  \"the coef_ did not converge\", ConvergenceWarning)\n",
      "C:\\Users\\Admin\\anaconda3\\lib\\site-packages\\sklearn\\linear_model\\_sag.py:330: ConvergenceWarning: The max_iter was reached which means the coef_ did not converge\n",
      "  \"the coef_ did not converge\", ConvergenceWarning)\n",
      "C:\\Users\\Admin\\anaconda3\\lib\\site-packages\\sklearn\\linear_model\\_sag.py:330: ConvergenceWarning: The max_iter was reached which means the coef_ did not converge\n",
      "  \"the coef_ did not converge\", ConvergenceWarning)\n"
     ]
    },
    {
     "name": "stderr",
     "output_type": "stream",
     "text": [
      "C:\\Users\\Admin\\anaconda3\\lib\\site-packages\\sklearn\\linear_model\\_sag.py:330: ConvergenceWarning: The max_iter was reached which means the coef_ did not converge\n",
      "  \"the coef_ did not converge\", ConvergenceWarning)\n",
      "C:\\Users\\Admin\\anaconda3\\lib\\site-packages\\sklearn\\linear_model\\_sag.py:330: ConvergenceWarning: The max_iter was reached which means the coef_ did not converge\n",
      "  \"the coef_ did not converge\", ConvergenceWarning)\n",
      "C:\\Users\\Admin\\anaconda3\\lib\\site-packages\\sklearn\\linear_model\\_sag.py:330: ConvergenceWarning: The max_iter was reached which means the coef_ did not converge\n",
      "  \"the coef_ did not converge\", ConvergenceWarning)\n",
      "C:\\Users\\Admin\\anaconda3\\lib\\site-packages\\sklearn\\linear_model\\_sag.py:330: ConvergenceWarning: The max_iter was reached which means the coef_ did not converge\n",
      "  \"the coef_ did not converge\", ConvergenceWarning)\n",
      "C:\\Users\\Admin\\anaconda3\\lib\\site-packages\\sklearn\\linear_model\\_sag.py:330: ConvergenceWarning: The max_iter was reached which means the coef_ did not converge\n",
      "  \"the coef_ did not converge\", ConvergenceWarning)\n",
      "C:\\Users\\Admin\\anaconda3\\lib\\site-packages\\sklearn\\linear_model\\_sag.py:330: ConvergenceWarning: The max_iter was reached which means the coef_ did not converge\n",
      "  \"the coef_ did not converge\", ConvergenceWarning)\n",
      "C:\\Users\\Admin\\anaconda3\\lib\\site-packages\\sklearn\\linear_model\\_sag.py:330: ConvergenceWarning: The max_iter was reached which means the coef_ did not converge\n",
      "  \"the coef_ did not converge\", ConvergenceWarning)\n",
      "C:\\Users\\Admin\\anaconda3\\lib\\site-packages\\sklearn\\linear_model\\_sag.py:330: ConvergenceWarning: The max_iter was reached which means the coef_ did not converge\n",
      "  \"the coef_ did not converge\", ConvergenceWarning)\n",
      "C:\\Users\\Admin\\anaconda3\\lib\\site-packages\\sklearn\\linear_model\\_sag.py:330: ConvergenceWarning: The max_iter was reached which means the coef_ did not converge\n",
      "  \"the coef_ did not converge\", ConvergenceWarning)\n",
      "C:\\Users\\Admin\\anaconda3\\lib\\site-packages\\sklearn\\linear_model\\_sag.py:330: ConvergenceWarning: The max_iter was reached which means the coef_ did not converge\n",
      "  \"the coef_ did not converge\", ConvergenceWarning)\n",
      "C:\\Users\\Admin\\anaconda3\\lib\\site-packages\\sklearn\\linear_model\\_sag.py:330: ConvergenceWarning: The max_iter was reached which means the coef_ did not converge\n",
      "  \"the coef_ did not converge\", ConvergenceWarning)\n",
      "C:\\Users\\Admin\\anaconda3\\lib\\site-packages\\sklearn\\linear_model\\_sag.py:330: ConvergenceWarning: The max_iter was reached which means the coef_ did not converge\n",
      "  \"the coef_ did not converge\", ConvergenceWarning)\n",
      "C:\\Users\\Admin\\anaconda3\\lib\\site-packages\\sklearn\\linear_model\\_sag.py:330: ConvergenceWarning: The max_iter was reached which means the coef_ did not converge\n",
      "  \"the coef_ did not converge\", ConvergenceWarning)\n",
      "C:\\Users\\Admin\\anaconda3\\lib\\site-packages\\sklearn\\linear_model\\_sag.py:330: ConvergenceWarning: The max_iter was reached which means the coef_ did not converge\n",
      "  \"the coef_ did not converge\", ConvergenceWarning)\n",
      "C:\\Users\\Admin\\anaconda3\\lib\\site-packages\\sklearn\\linear_model\\_sag.py:330: ConvergenceWarning: The max_iter was reached which means the coef_ did not converge\n",
      "  \"the coef_ did not converge\", ConvergenceWarning)\n"
     ]
    },
    {
     "data": {
      "image/png": "[encoded data removed]",
      "text/plain": [
       "<Figure size 432x288 with 2 Axes>"
      ]
     },
     "metadata": {
      "needs_background": "light"
     },
     "output_type": "display_data"
    }
   ],
   "source": [
    "logreg_grid=dict(C=uniform(loc=0, scale=4),penalty=['l2', 'l1'])\n",
    "test_scores=[]\n",
    "valid_scores=[]\n",
    "train_scores=[]\n",
    "for data in datasets:\n",
    "    for split in splits: \n",
    "        for trial in trials:\n",
    "        \n",
    "            train, test= train_test_split(data,test_size=split,random_state=trial)\n",
    "            train_vect= train.iloc[:,:-1]\n",
    "            train_labels=train.iloc[:,-1]\n",
    "            test_vect= test.iloc[:,:-1]\n",
    "            test_labels=test.iloc[:,-1]\n",
    "            \n",
    "            trainMod=logreg.fit(train_vect,train_labels) #train logreg without cv\n",
    "            TrainScore=trainMod.score(train_vect,train_labels)\n",
    "            train_scores.append(TrainScore)\n",
    "            RndSrch = RandomizedSearchCV(logreg, logreg_grid, n_iter=4, cv=5,n_jobs=6) #cross-validate\n",
    "            tuned=RndSrch.fit(train_vect,train_labels)\n",
    "            valid_scores.append(max(tuned.cv_results_['mean_test_score']))\n",
    "            BestParams =tuned.best_params_\n",
    "            TrainTuned=logreg.set_params(**BestParams)  #train logreg using tuned parameters from cv(with 60)\n",
    "            TrainTuned.fit(train_vect,train_labels)\n",
    "            pred_labels=TrainTuned.predict(test_vect)  #test logreg using tuned parameters \n",
    "            test_scores.append(accuracy_score(test_labels,pred_labels))\n",
    "\n",
    "LogRegpvt = pd.pivot_table(pd.DataFrame(RndSrch.cv_results_),\n",
    "                     values='mean_test_score', index='param_C', columns='param_penalty')\n",
    "LogRegHM = sns.heatmap(LogRegpvt,annot=True)"
   ]
  },
  {
   "cell_type": "code",
   "execution_count": 6,
   "metadata": {},
   "outputs": [
    {
     "name": "stdout",
     "output_type": "stream",
     "text": [
      "     Training  Validation      Test\n",
      ".8   0.708812    0.703556  0.678458\n",
      "0.5  0.709546    0.697369  0.699286\n",
      "0.2  0.719936    0.712281  0.703562\n",
      "     Training  Validation      Test\n",
      ".8   0.935185    0.935185  0.922068\n",
      "0.5  0.931358    0.931358  0.924198\n",
      "0.2  0.929630    0.929630  0.927160\n",
      "            Train  Validation      Test\n",
      "Titanic  0.712765    0.704402  0.693769\n",
      "Citrus   0.930509    0.928900  0.924931\n"
     ]
    }
   ],
   "source": [
    "from statistics import mean\n",
    "\n",
    "titanicTrAvgs=[mean(train_scores[0:3]),mean(train_scores[3:6]),mean(train_scores[6:9])]\n",
    "titanicValAvgs=[mean(valid_scores[0:3]),mean(valid_scores[3:6]),mean(valid_scores[6:9])]\n",
    "titanicTeAvgs=[mean(test_scores[0:3]),mean(test_scores[3:6]),mean(test_scores[6:9])]\n",
    "citrusTrAvgs=[mean(train_scores[9:12]),mean(train_scores[12:15]),mean(train_scores[15:18])]\n",
    "citrusValAvgs=citrusTrAvgs=[mean(train_scores[9:12]),mean(train_scores[12:15]),mean(train_scores[15:18])]\n",
    "citrusTeAvgs=[mean(test_scores[9:12]),mean(test_scores[12:15]),mean(test_scores[15:18])]\n",
    "LogRegTitAvgs=pd.DataFrame(list(zip(titanicTrAvgs,titanicValAvgs,titanicTeAvgs)),index=['.8','0.5','0.2'],columns=['Training','Validation'\n",
    "                                                                                                      ,'Test'])\n",
    "LogRegCitAvgs=pd.DataFrame(list(zip(citrusTrAvgs,citrusValAvgs,citrusTeAvgs)),index=['.8','0.5','0.2'],columns=['Training','Validation'\n",
    "                                                                                                      ,'Test'])\n",
    "\n",
    "print(LogRegTitAvgs)\n",
    "print(LogRegCitAvgs)\n",
    "TrAvgs=[mean(train_scores[0:9]),mean(train_scores[10:18])]\n",
    "ValAvgs=[mean(valid_scores[0:9]),mean(valid_scores[10:18])]\n",
    "TestAvgs=[mean(test_scores[0:9]),mean(test_scores[10:18])]\n",
    "\n",
    "LogRegDataAvgs=pd.DataFrame(list(zip(TrAvgs,ValAvgs,TestAvgs)),index=['Titanic','Citrus'],columns=['Train','Validation','Test'])\n",
    "print(LogRegDataAvgs)"
   ]
  },
  {
   "cell_type": "markdown",
   "metadata": {},
   "source": [
    "## K-Nearest Neighbors"
   ]
  },
  {
   "cell_type": "code",
   "execution_count": 7,
   "metadata": {},
   "outputs": [
    {
     "data": {
      "image/png": "[encoded data removed]",
      "text/plain": [
       "<Figure size 432x288 with 2 Axes>"
      ]
     },
     "metadata": {
      "needs_background": "light"
     },
     "output_type": "display_data"
    }
   ],
   "source": [
    "neigh_grid = {'n_neighbors': np.arange(1, 8), 'weights': ['uniform','distance']}\n",
    "test_scores=[]\n",
    "valid_scores=[]\n",
    "train_scores=[]\n",
    "for data in datasets:\n",
    "    for split in splits:\n",
    "        for trial in trials:\n",
    "         \n",
    "            train, test= train_test_split(data,test_size=split,random_state=trial)\n",
    "            train_vect= train.iloc[:,:-1]\n",
    "            train_labels=train.iloc[:,-1]\n",
    "            test_vect= test.iloc[:,:-1]\n",
    "            test_labels=test.iloc[:,-1]\n",
    "            \n",
    "            trainMod=neigh.fit(train_vect,train_labels) #train neigh without cv\n",
    "            TrainScore=trainMod.score(train_vect,train_labels)\n",
    "            train_scores.append(TrainScore)\n",
    "            RndSrch = RandomizedSearchCV(neigh, neigh_grid, n_iter=4, cv=5,n_jobs=6) #cross-validate\n",
    "            tuned=RndSrch.fit(train_vect,train_labels)\n",
    "            valid_scores.append(max(tuned.cv_results_['mean_test_score']))\n",
    "            BestParams =tuned.best_params_\n",
    "            TrainTuned=neigh.set_params(**BestParams)  #train neigh using tuned parameters from cv(with 60)\n",
    "            TrainTuned.fit(train_vect,train_labels)\n",
    "            pred_labels=TrainTuned.predict(test_vect)  #test neigh using tuned parameters \n",
    "            test_scores.append(accuracy_score(test_labels,pred_labels))\n",
    "neighpvt = pd.pivot_table(pd.DataFrame(RndSrch.cv_results_),\n",
    "                     values='mean_test_score', index='param_n_neighbors', columns='param_weights')\n",
    "neighHM = sns.heatmap(neighpvt,annot=True)\n"
   ]
  },
  {
   "cell_type": "code",
   "execution_count": 8,
   "metadata": {},
   "outputs": [
    {
     "name": "stdout",
     "output_type": "stream",
     "text": [
      "     Training  Validation      Test\n",
      ".8   0.835249    0.740905  0.737094\n",
      "0.5  0.821848    0.740200  0.755861\n",
      "0.2  0.893780    0.750558  0.777354\n",
      "     Training  Validation      Test\n",
      ".8   0.964198    0.964198  0.907716\n",
      "0.5  0.980988    0.980988  0.909630\n",
      "0.2  1.000000    1.000000  0.912346\n",
      "            Train  Validation      Test\n",
      "Titanic  0.850292    0.743888  0.756770\n",
      "Citrus   0.986157    0.914317  0.910845\n"
     ]
    },
    {
     "data": {
      "image/png": "[encoded data removed]",
      "text/plain": [
       "<Figure size 432x288 with 2 Axes>"
      ]
     },
     "metadata": {
      "needs_background": "light"
     },
     "output_type": "display_data"
    }
   ],
   "source": [
    "neighpvt = pd.pivot_table(pd.DataFrame(RndSrch.cv_results_),\n",
    "                     values='mean_test_score', index='param_n_neighbors', columns='param_weights')\n",
    "neighHM = sns.heatmap(neighpvt,annot=True)\n",
    "\n",
    "titanicTrAvgs=[mean(train_scores[0:3]),mean(train_scores[3:6]),mean(train_scores[6:9])]\n",
    "titanicValAvgs=[mean(valid_scores[0:3]),mean(valid_scores[3:6]),mean(valid_scores[6:9])]\n",
    "titanicTeAvgs=[mean(test_scores[0:3]),mean(test_scores[3:6]),mean(test_scores[6:9])]\n",
    "citrusTrAvgs=[mean(train_scores[9:12]),mean(train_scores[12:15]),mean(train_scores[15:18])]\n",
    "citrusValAvgs=citrusTrAvgs=[mean(train_scores[9:12]),mean(train_scores[12:15]),mean(train_scores[15:18])]\n",
    "citrusTeAvgs=[mean(test_scores[9:12]),mean(test_scores[12:15]),mean(test_scores[15:18])]\n",
    "\n",
    "KNNTitAvgs=pd.DataFrame(list(zip(titanicTrAvgs,titanicValAvgs,titanicTeAvgs)),index=['.8','0.5','0.2'],columns=['Training','Validation'\n",
    "                                                                                                      ,'Test'])\n",
    "KNNCitAvgs=pd.DataFrame(list(zip(citrusTrAvgs,citrusValAvgs,citrusTeAvgs)),index=['.8','0.5','0.2'],columns=['Training','Validation'\n",
    "                                                                                                      ,'Test'])\n",
    "print(KNNTitAvgs)\n",
    "print(KNNCitAvgs)\n",
    "## 2 datasets, 3 partitions, 3 trials is 18 scores per type of score\n",
    "#scores 0-9: SpComments, scores 10-18: LSA\n",
    "\n",
    "TrAvgs=[mean(train_scores[0:9]),mean(train_scores[10:18])]\n",
    "ValAvgs=[mean(valid_scores[0:9]),mean(valid_scores[10:18])]\n",
    "TestAvgs=[mean(test_scores[0:9]),mean(test_scores[10:18])]\n",
    "\n",
    "neighAvgs=pd.DataFrame(list(zip(TrAvgs,ValAvgs,TestAvgs)),index=['Titanic','Citrus'],columns=['Train','Validation','Test'])\n",
    "print(neighAvgs)"
   ]
  },
  {
   "cell_type": "markdown",
   "metadata": {},
   "source": [
    "## Support Vector Machine"
   ]
  },
  {
   "cell_type": "code",
   "execution_count": 9,
   "metadata": {},
   "outputs": [
    {
     "name": "stderr",
     "output_type": "stream",
     "text": [
      "C:\\Users\\Admin\\anaconda3\\lib\\site-packages\\sklearn\\svm\\_base.py:947: ConvergenceWarning: Liblinear failed to converge, increase the number of iterations.\n",
      "  \"the number of iterations.\", ConvergenceWarning)\n",
      "C:\\Users\\Admin\\anaconda3\\lib\\site-packages\\sklearn\\svm\\_base.py:947: ConvergenceWarning: Liblinear failed to converge, increase the number of iterations.\n",
      "  \"the number of iterations.\", ConvergenceWarning)\n",
      "C:\\Users\\Admin\\anaconda3\\lib\\site-packages\\sklearn\\svm\\_base.py:947: ConvergenceWarning: Liblinear failed to converge, increase the number of iterations.\n",
      "  \"the number of iterations.\", ConvergenceWarning)\n",
      "C:\\Users\\Admin\\anaconda3\\lib\\site-packages\\sklearn\\svm\\_base.py:947: ConvergenceWarning: Liblinear failed to converge, increase the number of iterations.\n",
      "  \"the number of iterations.\", ConvergenceWarning)\n",
      "C:\\Users\\Admin\\anaconda3\\lib\\site-packages\\sklearn\\svm\\_base.py:947: ConvergenceWarning: Liblinear failed to converge, increase the number of iterations.\n",
      "  \"the number of iterations.\", ConvergenceWarning)\n",
      "C:\\Users\\Admin\\anaconda3\\lib\\site-packages\\sklearn\\svm\\_base.py:947: ConvergenceWarning: Liblinear failed to converge, increase the number of iterations.\n",
      "  \"the number of iterations.\", ConvergenceWarning)\n",
      "C:\\Users\\Admin\\anaconda3\\lib\\site-packages\\sklearn\\svm\\_base.py:947: ConvergenceWarning: Liblinear failed to converge, increase the number of iterations.\n",
      "  \"the number of iterations.\", ConvergenceWarning)\n",
      "C:\\Users\\Admin\\anaconda3\\lib\\site-packages\\sklearn\\svm\\_base.py:947: ConvergenceWarning: Liblinear failed to converge, increase the number of iterations.\n",
      "  \"the number of iterations.\", ConvergenceWarning)\n",
      "C:\\Users\\Admin\\anaconda3\\lib\\site-packages\\sklearn\\svm\\_base.py:947: ConvergenceWarning: Liblinear failed to converge, increase the number of iterations.\n",
      "  \"the number of iterations.\", ConvergenceWarning)\n",
      "C:\\Users\\Admin\\anaconda3\\lib\\site-packages\\sklearn\\svm\\_base.py:947: ConvergenceWarning: Liblinear failed to converge, increase the number of iterations.\n",
      "  \"the number of iterations.\", ConvergenceWarning)\n",
      "C:\\Users\\Admin\\anaconda3\\lib\\site-packages\\sklearn\\svm\\_base.py:947: ConvergenceWarning: Liblinear failed to converge, increase the number of iterations.\n",
      "  \"the number of iterations.\", ConvergenceWarning)\n",
      "C:\\Users\\Admin\\anaconda3\\lib\\site-packages\\sklearn\\svm\\_base.py:947: ConvergenceWarning: Liblinear failed to converge, increase the number of iterations.\n",
      "  \"the number of iterations.\", ConvergenceWarning)\n",
      "C:\\Users\\Admin\\anaconda3\\lib\\site-packages\\sklearn\\svm\\_base.py:947: ConvergenceWarning: Liblinear failed to converge, increase the number of iterations.\n",
      "  \"the number of iterations.\", ConvergenceWarning)\n",
      "C:\\Users\\Admin\\anaconda3\\lib\\site-packages\\sklearn\\svm\\_base.py:947: ConvergenceWarning: Liblinear failed to converge, increase the number of iterations.\n",
      "  \"the number of iterations.\", ConvergenceWarning)\n",
      "C:\\Users\\Admin\\anaconda3\\lib\\site-packages\\sklearn\\svm\\_base.py:947: ConvergenceWarning: Liblinear failed to converge, increase the number of iterations.\n",
      "  \"the number of iterations.\", ConvergenceWarning)\n",
      "C:\\Users\\Admin\\anaconda3\\lib\\site-packages\\sklearn\\svm\\_base.py:947: ConvergenceWarning: Liblinear failed to converge, increase the number of iterations.\n",
      "  \"the number of iterations.\", ConvergenceWarning)\n",
      "C:\\Users\\Admin\\anaconda3\\lib\\site-packages\\sklearn\\svm\\_base.py:947: ConvergenceWarning: Liblinear failed to converge, increase the number of iterations.\n",
      "  \"the number of iterations.\", ConvergenceWarning)\n",
      "C:\\Users\\Admin\\anaconda3\\lib\\site-packages\\sklearn\\svm\\_base.py:947: ConvergenceWarning: Liblinear failed to converge, increase the number of iterations.\n",
      "  \"the number of iterations.\", ConvergenceWarning)\n",
      "C:\\Users\\Admin\\anaconda3\\lib\\site-packages\\sklearn\\svm\\_base.py:947: ConvergenceWarning: Liblinear failed to converge, increase the number of iterations.\n",
      "  \"the number of iterations.\", ConvergenceWarning)\n",
      "C:\\Users\\Admin\\anaconda3\\lib\\site-packages\\sklearn\\svm\\_base.py:947: ConvergenceWarning: Liblinear failed to converge, increase the number of iterations.\n",
      "  \"the number of iterations.\", ConvergenceWarning)\n",
      "C:\\Users\\Admin\\anaconda3\\lib\\site-packages\\sklearn\\svm\\_base.py:947: ConvergenceWarning: Liblinear failed to converge, increase the number of iterations.\n",
      "  \"the number of iterations.\", ConvergenceWarning)\n",
      "C:\\Users\\Admin\\anaconda3\\lib\\site-packages\\sklearn\\svm\\_base.py:947: ConvergenceWarning: Liblinear failed to converge, increase the number of iterations.\n",
      "  \"the number of iterations.\", ConvergenceWarning)\n",
      "C:\\Users\\Admin\\anaconda3\\lib\\site-packages\\sklearn\\svm\\_base.py:947: ConvergenceWarning: Liblinear failed to converge, increase the number of iterations.\n",
      "  \"the number of iterations.\", ConvergenceWarning)\n",
      "C:\\Users\\Admin\\anaconda3\\lib\\site-packages\\sklearn\\svm\\_base.py:947: ConvergenceWarning: Liblinear failed to converge, increase the number of iterations.\n",
      "  \"the number of iterations.\", ConvergenceWarning)\n",
      "C:\\Users\\Admin\\anaconda3\\lib\\site-packages\\sklearn\\svm\\_base.py:947: ConvergenceWarning: Liblinear failed to converge, increase the number of iterations.\n",
      "  \"the number of iterations.\", ConvergenceWarning)\n",
      "C:\\Users\\Admin\\anaconda3\\lib\\site-packages\\sklearn\\svm\\_base.py:947: ConvergenceWarning: Liblinear failed to converge, increase the number of iterations.\n",
      "  \"the number of iterations.\", ConvergenceWarning)\n",
      "C:\\Users\\Admin\\anaconda3\\lib\\site-packages\\sklearn\\svm\\_base.py:947: ConvergenceWarning: Liblinear failed to converge, increase the number of iterations.\n",
      "  \"the number of iterations.\", ConvergenceWarning)\n",
      "C:\\Users\\Admin\\anaconda3\\lib\\site-packages\\sklearn\\svm\\_base.py:947: ConvergenceWarning: Liblinear failed to converge, increase the number of iterations.\n",
      "  \"the number of iterations.\", ConvergenceWarning)\n",
      "C:\\Users\\Admin\\anaconda3\\lib\\site-packages\\sklearn\\svm\\_base.py:947: ConvergenceWarning: Liblinear failed to converge, increase the number of iterations.\n",
      "  \"the number of iterations.\", ConvergenceWarning)\n",
      "C:\\Users\\Admin\\anaconda3\\lib\\site-packages\\sklearn\\svm\\_base.py:947: ConvergenceWarning: Liblinear failed to converge, increase the number of iterations.\n",
      "  \"the number of iterations.\", ConvergenceWarning)\n",
      "C:\\Users\\Admin\\anaconda3\\lib\\site-packages\\sklearn\\svm\\_base.py:947: ConvergenceWarning: Liblinear failed to converge, increase the number of iterations.\n",
      "  \"the number of iterations.\", ConvergenceWarning)\n",
      "C:\\Users\\Admin\\anaconda3\\lib\\site-packages\\sklearn\\svm\\_base.py:947: ConvergenceWarning: Liblinear failed to converge, increase the number of iterations.\n",
      "  \"the number of iterations.\", ConvergenceWarning)\n",
      "C:\\Users\\Admin\\anaconda3\\lib\\site-packages\\sklearn\\svm\\_base.py:947: ConvergenceWarning: Liblinear failed to converge, increase the number of iterations.\n",
      "  \"the number of iterations.\", ConvergenceWarning)\n",
      "C:\\Users\\Admin\\anaconda3\\lib\\site-packages\\sklearn\\svm\\_base.py:947: ConvergenceWarning: Liblinear failed to converge, increase the number of iterations.\n",
      "  \"the number of iterations.\", ConvergenceWarning)\n",
      "C:\\Users\\Admin\\anaconda3\\lib\\site-packages\\sklearn\\svm\\_base.py:947: ConvergenceWarning: Liblinear failed to converge, increase the number of iterations.\n",
      "  \"the number of iterations.\", ConvergenceWarning)\n",
      "C:\\Users\\Admin\\anaconda3\\lib\\site-packages\\sklearn\\svm\\_base.py:947: ConvergenceWarning: Liblinear failed to converge, increase the number of iterations.\n",
      "  \"the number of iterations.\", ConvergenceWarning)\n",
      "C:\\Users\\Admin\\anaconda3\\lib\\site-packages\\sklearn\\svm\\_base.py:947: ConvergenceWarning: Liblinear failed to converge, increase the number of iterations.\n",
      "  \"the number of iterations.\", ConvergenceWarning)\n",
      "C:\\Users\\Admin\\anaconda3\\lib\\site-packages\\sklearn\\svm\\_base.py:947: ConvergenceWarning: Liblinear failed to converge, increase the number of iterations.\n",
      "  \"the number of iterations.\", ConvergenceWarning)\n",
      "C:\\Users\\Admin\\anaconda3\\lib\\site-packages\\sklearn\\svm\\_base.py:947: ConvergenceWarning: Liblinear failed to converge, increase the number of iterations.\n",
      "  \"the number of iterations.\", ConvergenceWarning)\n",
      "C:\\Users\\Admin\\anaconda3\\lib\\site-packages\\sklearn\\svm\\_base.py:947: ConvergenceWarning: Liblinear failed to converge, increase the number of iterations.\n",
      "  \"the number of iterations.\", ConvergenceWarning)\n"
     ]
    },
    {
     "name": "stderr",
     "output_type": "stream",
     "text": [
      "C:\\Users\\Admin\\anaconda3\\lib\\site-packages\\sklearn\\svm\\_base.py:947: ConvergenceWarning: Liblinear failed to converge, increase the number of iterations.\n",
      "  \"the number of iterations.\", ConvergenceWarning)\n",
      "C:\\Users\\Admin\\anaconda3\\lib\\site-packages\\sklearn\\svm\\_base.py:947: ConvergenceWarning: Liblinear failed to converge, increase the number of iterations.\n",
      "  \"the number of iterations.\", ConvergenceWarning)\n",
      "C:\\Users\\Admin\\anaconda3\\lib\\site-packages\\sklearn\\svm\\_base.py:947: ConvergenceWarning: Liblinear failed to converge, increase the number of iterations.\n",
      "  \"the number of iterations.\", ConvergenceWarning)\n",
      "C:\\Users\\Admin\\anaconda3\\lib\\site-packages\\sklearn\\svm\\_base.py:947: ConvergenceWarning: Liblinear failed to converge, increase the number of iterations.\n",
      "  \"the number of iterations.\", ConvergenceWarning)\n",
      "C:\\Users\\Admin\\anaconda3\\lib\\site-packages\\sklearn\\svm\\_base.py:947: ConvergenceWarning: Liblinear failed to converge, increase the number of iterations.\n",
      "  \"the number of iterations.\", ConvergenceWarning)\n",
      "C:\\Users\\Admin\\anaconda3\\lib\\site-packages\\sklearn\\svm\\_base.py:947: ConvergenceWarning: Liblinear failed to converge, increase the number of iterations.\n",
      "  \"the number of iterations.\", ConvergenceWarning)\n",
      "C:\\Users\\Admin\\anaconda3\\lib\\site-packages\\sklearn\\svm\\_base.py:947: ConvergenceWarning: Liblinear failed to converge, increase the number of iterations.\n",
      "  \"the number of iterations.\", ConvergenceWarning)\n",
      "C:\\Users\\Admin\\anaconda3\\lib\\site-packages\\sklearn\\svm\\_base.py:947: ConvergenceWarning: Liblinear failed to converge, increase the number of iterations.\n",
      "  \"the number of iterations.\", ConvergenceWarning)\n",
      "C:\\Users\\Admin\\anaconda3\\lib\\site-packages\\sklearn\\svm\\_base.py:947: ConvergenceWarning: Liblinear failed to converge, increase the number of iterations.\n",
      "  \"the number of iterations.\", ConvergenceWarning)\n",
      "C:\\Users\\Admin\\anaconda3\\lib\\site-packages\\sklearn\\svm\\_base.py:947: ConvergenceWarning: Liblinear failed to converge, increase the number of iterations.\n",
      "  \"the number of iterations.\", ConvergenceWarning)\n",
      "C:\\Users\\Admin\\anaconda3\\lib\\site-packages\\sklearn\\svm\\_base.py:947: ConvergenceWarning: Liblinear failed to converge, increase the number of iterations.\n",
      "  \"the number of iterations.\", ConvergenceWarning)\n",
      "C:\\Users\\Admin\\anaconda3\\lib\\site-packages\\sklearn\\svm\\_base.py:947: ConvergenceWarning: Liblinear failed to converge, increase the number of iterations.\n",
      "  \"the number of iterations.\", ConvergenceWarning)\n",
      "C:\\Users\\Admin\\anaconda3\\lib\\site-packages\\sklearn\\svm\\_base.py:947: ConvergenceWarning: Liblinear failed to converge, increase the number of iterations.\n",
      "  \"the number of iterations.\", ConvergenceWarning)\n",
      "C:\\Users\\Admin\\anaconda3\\lib\\site-packages\\sklearn\\svm\\_base.py:947: ConvergenceWarning: Liblinear failed to converge, increase the number of iterations.\n",
      "  \"the number of iterations.\", ConvergenceWarning)\n"
     ]
    }
   ],
   "source": [
    "linsvm_grid=dict(C=[.01,0.5,1,4,10]) \n",
    "test_scores=[]\n",
    "valid_scores=[]\n",
    "train_scores=[]\n",
    "for data in datasets: \n",
    "    for split in splits:\n",
    "        for trial in trials:\n",
    "        \n",
    "            train, test= train_test_split(data,test_size=split,random_state=trial)\n",
    "            train_vect= train.iloc[:,:-1]\n",
    "            train_labels=train.iloc[:,-1]\n",
    "            test_vect= test.iloc[:,:-1]\n",
    "            test_labels=test.iloc[:,-1]\n",
    "            \n",
    "            trainMod=linsvm.fit(train_vect,train_labels) #train linsvm without cv\n",
    "            TrainScore=trainMod.score(train_vect,train_labels)\n",
    "            train_scores.append(TrainScore)\n",
    "            RndSrch = RandomizedSearchCV(linsvm, linsvm_grid, n_iter=4, cv=5,n_jobs=6) #cross-validate\n",
    "            tuned=RndSrch.fit(train_vect,train_labels)\n",
    "            valid_scores.append(max(tuned.cv_results_['mean_test_score']))\n",
    "            BestParams =tuned.best_params_\n",
    "            TrainTuned=linsvm.set_params(**BestParams)  #train linsvm using tuned parameters from cv(with 60)\n",
    "            TrainTuned.fit(train_vect,train_labels)\n",
    "            pred_labels=TrainTuned.predict(test_vect)  #test linsvm using tuned parameters \n",
    "            test_scores.append(accuracy_score(test_labels,pred_labels))\n",
    "\n"
   ]
  },
  {
   "cell_type": "code",
   "execution_count": 10,
   "metadata": {},
   "outputs": [
    {
     "name": "stdout",
     "output_type": "stream",
     "text": [
      "     Training  Validation      Test\n",
      ".8   0.756066    0.738123  0.746654\n",
      "0.5  0.670240    0.677037  0.771662\n",
      "0.2  0.740670    0.746093  0.762087\n",
      "     Training  Validation      Test\n",
      ".8   0.929012    0.929012  0.918519\n",
      "0.5  0.826173    0.826173  0.921235\n",
      "0.2  0.926389    0.926389  0.920988\n",
      "            Train  Validation      Test\n",
      "Titanic  0.722325    0.720417  0.760134\n",
      "Citrus   0.887535    0.916331  0.920405\n"
     ]
    },
    {
     "data": {
      "image/png": "[encoded data removed]",
      "text/plain": [
       "<Figure size 432x288 with 2 Axes>"
      ]
     },
     "metadata": {
      "needs_background": "light"
     },
     "output_type": "display_data"
    }
   ],
   "source": [
    "linsvmpvt = pd.pivot_table(pd.DataFrame(RndSrch.cv_results_),\n",
    "                     values='mean_test_score', index='param_C')\n",
    "linsvmHM = sns.heatmap(linsvmpvt,annot=True)\n",
    "\n",
    "titanicTrAvgs=[mean(train_scores[0:3]),mean(train_scores[3:6]),mean(train_scores[6:9])]\n",
    "titanicValAvgs=[mean(valid_scores[0:3]),mean(valid_scores[3:6]),mean(valid_scores[6:9])]\n",
    "titanicTeAvgs=[mean(test_scores[0:3]),mean(test_scores[3:6]),mean(test_scores[6:9])]\n",
    "citrusTrAvgs=[mean(train_scores[9:12]),mean(train_scores[12:15]),mean(train_scores[15:18])]\n",
    "citrusValAvgs=citrusTrAvgs=[mean(train_scores[9:12]),mean(train_scores[12:15]),mean(train_scores[15:18])]\n",
    "citrusTeAvgs=[mean(test_scores[9:12]),mean(test_scores[12:15]),mean(test_scores[15:18])]\n",
    "SVMTitAvgs=pd.DataFrame(list(zip(titanicTrAvgs,titanicValAvgs,titanicTeAvgs)),index=['.8','0.5','0.2'],columns=['Training','Validation'\n",
    "                                                                                                      ,'Test'])\n",
    "SVMCitAvgs=pd.DataFrame(list(zip(citrusTrAvgs,citrusValAvgs,citrusTeAvgs)),index=['.8','0.5','0.2'],columns=['Training','Validation'\n",
    "                                                                                                      ,'Test'])\n",
    "print(SVMTitAvgs)\n",
    "print(SVMCitAvgs)\n",
    "## 2 datasets, 3 partitions, 3 trials is 18 scores per type of score\n",
    "#scores 0-9: SpComments, scores 10-18: LSA\n",
    "\n",
    "TrAvgs=[mean(train_scores[0:9]),mean(train_scores[10:18])]\n",
    "ValAvgs=[mean(valid_scores[0:9]),mean(valid_scores[10:18])]\n",
    "TestAvgs=[mean(test_scores[0:9]),mean(test_scores[10:18])]\n",
    "\n",
    "linsvmAvgs=pd.DataFrame(list(zip(TrAvgs,ValAvgs,TestAvgs)),index=['Titanic','Citrus'],columns=['Train','Validation','Test'])\n",
    "print(linsvmAvgs)"
   ]
  },
  {
   "cell_type": "code",
   "execution_count": 12,
   "metadata": {},
   "outputs": [
    {
     "name": "stdout",
     "output_type": "stream",
     "text": [
      "Best model for Titanic train dataset is ['KNN']\n",
      "Best model for Titanic validation dataset is ['KNN']\n",
      "Best model for Titanic test dataset is ['SVM']\n",
      "Best model for Citrus train dataset is ['KNN-Citrus']\n",
      "Best model for Citrus validation dataset is ['LogReg-Citrus']\n",
      "Best model for Citrus test dataset is ['LogReg-Citrus']\n"
     ]
    }
   ],
   "source": [
    "TitanicAvgs=pd.DataFrame([LogRegDataAvgs.loc['Titanic'],neighAvgs.loc['Titanic'],linsvmAvgs.loc['Titanic']],index=['LogReg','KNN','SVM'])\n",
    "CitrusAvgs=pd.DataFrame([LogRegDataAvgs.loc['Citrus'],neighAvgs.loc['Citrus'],linsvmAvgs.loc['Citrus']],index=['LogReg-Citrus','KNN-Citrus','SVM-Citrus'])\n",
    "print('Best model for Titanic train dataset is',list(TitanicAvgs.index[TitanicAvgs.Train==max(TitanicAvgs.Train)]))\n",
    "print('Best model for Titanic validation dataset is',list(TitanicAvgs.index[TitanicAvgs.Validation==max(TitanicAvgs.Validation)]))\n",
    "print('Best model for Titanic test dataset is',list(TitanicAvgs.index[TitanicAvgs.Test==max(TitanicAvgs.Test)]))\n",
    "print('Best model for Citrus train dataset is',list(CitrusAvgs.index[CitrusAvgs.Train==max(CitrusAvgs.Train)]))\n",
    "print('Best model for Citrus validation dataset is',list(CitrusAvgs.index[CitrusAvgs.Validation==max(CitrusAvgs.Validation)]))\n",
    "print('Best model for Citrus test dataset is',list(CitrusAvgs.index[CitrusAvgs.Test==max(CitrusAvgs.Test)]))"
   ]
  },
  {
   "cell_type": "code",
   "execution_count": 13,
   "metadata": {},
   "outputs": [
    {
     "data": {
      "text/html": [
       "<div>\n",
       "<style scoped>\n",
       "    .dataframe tbody tr th:only-of-type {\n",
       "        vertical-align: middle;\n",
       "    }\n",
       "\n",
       "    .dataframe tbody tr th {\n",
       "        vertical-align: top;\n",
       "    }\n",
       "\n",
       "    .dataframe thead th {\n",
       "        text-align: right;\n",
       "    }\n",
       "</style>\n",
       "<table border=\"1\" class=\"dataframe\">\n",
       "  <thead>\n",
       "    <tr style=\"text-align: right;\">\n",
       "      <th></th>\n",
       "      <th>Train</th>\n",
       "      <th>Validation</th>\n",
       "      <th>Test</th>\n",
       "    </tr>\n",
       "  </thead>\n",
       "  <tbody>\n",
       "    <tr>\n",
       "      <th>LogReg</th>\n",
       "      <td>0.712765</td>\n",
       "      <td>0.704402</td>\n",
       "      <td>0.693769</td>\n",
       "    </tr>\n",
       "    <tr>\n",
       "      <th>KNN</th>\n",
       "      <td>0.850292</td>\n",
       "      <td>0.743888</td>\n",
       "      <td>0.756770</td>\n",
       "    </tr>\n",
       "    <tr>\n",
       "      <th>SVM</th>\n",
       "      <td>0.722325</td>\n",
       "      <td>0.720417</td>\n",
       "      <td>0.760134</td>\n",
       "    </tr>\n",
       "  </tbody>\n",
       "</table>\n",
       "</div>"
      ],
      "text/plain": [
       "           Train  Validation      Test\n",
       "LogReg  0.712765    0.704402  0.693769\n",
       "KNN     0.850292    0.743888  0.756770\n",
       "SVM     0.722325    0.720417  0.760134"
      ]
     },
     "execution_count": 13,
     "metadata": {},
     "output_type": "execute_result"
    }
   ],
   "source": [
    "TitanicAvgs"
   ]
  },
  {
   "cell_type": "code",
   "execution_count": 14,
   "metadata": {},
   "outputs": [
    {
     "data": {
      "text/html": [
       "<div>\n",
       "<style scoped>\n",
       "    .dataframe tbody tr th:only-of-type {\n",
       "        vertical-align: middle;\n",
       "    }\n",
       "\n",
       "    .dataframe tbody tr th {\n",
       "        vertical-align: top;\n",
       "    }\n",
       "\n",
       "    .dataframe thead th {\n",
       "        text-align: right;\n",
       "    }\n",
       "</style>\n",
       "<table border=\"1\" class=\"dataframe\">\n",
       "  <thead>\n",
       "    <tr style=\"text-align: right;\">\n",
       "      <th></th>\n",
       "      <th>Train</th>\n",
       "      <th>Validation</th>\n",
       "      <th>Test</th>\n",
       "    </tr>\n",
       "  </thead>\n",
       "  <tbody>\n",
       "    <tr>\n",
       "      <th>LogReg-Citrus</th>\n",
       "      <td>0.930509</td>\n",
       "      <td>0.928900</td>\n",
       "      <td>0.924931</td>\n",
       "    </tr>\n",
       "    <tr>\n",
       "      <th>KNN-Citrus</th>\n",
       "      <td>0.986157</td>\n",
       "      <td>0.914317</td>\n",
       "      <td>0.910845</td>\n",
       "    </tr>\n",
       "    <tr>\n",
       "      <th>SVM-Citrus</th>\n",
       "      <td>0.887535</td>\n",
       "      <td>0.916331</td>\n",
       "      <td>0.920405</td>\n",
       "    </tr>\n",
       "  </tbody>\n",
       "</table>\n",
       "</div>"
      ],
      "text/plain": [
       "                  Train  Validation      Test\n",
       "LogReg-Citrus  0.930509    0.928900  0.924931\n",
       "KNN-Citrus     0.986157    0.914317  0.910845\n",
       "SVM-Citrus     0.887535    0.916331  0.920405"
      ]
     },
     "execution_count": 14,
     "metadata": {},
     "output_type": "execute_result"
    }
   ],
   "source": [
    "CitrusAvgs"
   ]
  },
  {
   "cell_type": "code",
   "execution_count": null,
   "metadata": {},
   "outputs": [],
   "source": []
  },
  {
   "cell_type": "code",
   "execution_count": null,
   "metadata": {},
   "outputs": [],
   "source": []
  },
  {
   "cell_type": "code",
   "execution_count": null,
   "metadata": {},
   "outputs": [],
   "source": []
  }
 ],
 "metadata": {
  "kernelspec": {
   "display_name": "Python 2",
   "language": "python",
   "name": "python2"
  },
  "language_info": {
   "codemirror_mode": {
    "name": "ipython",
    "version": 2
   },
   "file_extension": ".py",
   "mimetype": "text/x-python",
   "name": "python",
   "nbconvert_exporter": "python",
   "pygments_lexer": "ipython2",
   "version": "2.7.16"
  }
 },
 "nbformat": 4,
 "nbformat_minor": 2
}
