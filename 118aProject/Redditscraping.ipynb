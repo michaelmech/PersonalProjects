{
 "cells": [
  {
   "cell_type": "code",
   "execution_count": 1,
   "metadata": {},
   "outputs": [],
   "source": [
    "#create reddit instance\n",
    "import praw\n",
    "reddit= praw.Reddit(client_id='8KP2rSUDdNUOFg',\n",
    "                   client_secret='Ir2dZ0yw7kgPvayS2fDAKHYPVII',\n",
    "                   username='michael_mech',\n",
    "                   password='hidden',\n",
    "                   user_agent='anything')"
   ]
  },
  {
   "cell_type": "code",
   "execution_count": 2,
   "metadata": {},
   "outputs": [],
   "source": [
    "#introvert subreddit\n",
    "subredditI=reddit.subreddit('introvert')\n",
    "topIntr=subredditI.top(limit=60) #try to get as much data while keeping a balanced dataset(same observations for classes)\n",
    "Iposts=[]\n",
    "for submission in topIntr:\n",
    "    if not submission.stickied:\n",
    "        submission.comments.replace_more(limit=0)\n",
    "        for comment in submission.comments.list(): #getting comments from top posts in introverts subreddit\n",
    "            hold=[]\n",
    "            hold.append(comment.body)\n",
    "            Iposts.append(hold)"
   ]
  },
  {
   "cell_type": "code",
   "execution_count": 3,
   "metadata": {},
   "outputs": [],
   "source": [
    "#extroverts subreddit\n",
    "subredditE=reddit.subreddit('Extroverts')\n",
    "topExtr=subredditE.top(limit=300) \n",
    "\n",
    "Eposts=[]\n",
    "for submission in topExtr:\n",
    "    if not submission.stickied:\n",
    "        submission.comments.replace_more(limit=0)\n",
    "        for comment in submission.comments.list(): #try to get as much data while keeping a balanced dataset\n",
    "            hold=[]\n",
    "            hold.append(comment.body)\n",
    "            Eposts.append(hold)"
   ]
  },
  {
   "cell_type": "code",
   "execution_count": 4,
   "metadata": {},
   "outputs": [
    {
     "name": "stdout",
     "output_type": "stream",
     "text": [
      "Shapes of introvert and extrovert dataframes: (3761, 2) (2774, 2)\n"
     ]
    }
   ],
   "source": [
    "import pandas as pd\n",
    "\n",
    "Edf= pd.DataFrame(columns=['label', 'text'])  #create dataframes to hold extrovert and introvert comments\n",
    "Idf= pd.DataFrame(columns=['label', 'text'])\n",
    "for comment in Eposts:\n",
    "    append_df = pd.DataFrame([['E',comment,]],\n",
    "                                         columns=['label', 'text'])\n",
    "    Edf = pd.concat([Edf, append_df])\n",
    "\n",
    "for comment in Iposts:\n",
    "    append_df = pd.DataFrame([['I',comment,]],\n",
    "                                         columns=['label', 'text'])\n",
    "    Idf = pd.concat([Idf, append_df])\n",
    "print('Shapes of introvert and extrovert dataframes:',Idf.shape,Edf.shape)\n",
    "Idf.to_csv('Idata.csv')\n",
    "Edf.to_csv('Edata.csv')"
   ]
  },
  {
   "cell_type": "code",
   "execution_count": null,
   "metadata": {},
   "outputs": [],
   "source": []
  }
 ],
 "metadata": {
  "kernelspec": {
   "display_name": "Python 3",
   "language": "python",
   "name": "python3"
  },
  "language_info": {
   "codemirror_mode": {
    "name": "ipython",
    "version": 3
   },
   "file_extension": ".py",
   "mimetype": "text/x-python",
   "name": "python",
   "nbconvert_exporter": "python",
   "pygments_lexer": "ipython3",
   "version": "3.7.6"
  }
 },
 "nbformat": 4,
 "nbformat_minor": 2
}
